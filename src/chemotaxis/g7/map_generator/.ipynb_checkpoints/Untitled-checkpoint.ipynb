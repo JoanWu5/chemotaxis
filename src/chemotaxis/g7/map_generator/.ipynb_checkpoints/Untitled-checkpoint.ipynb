{
 "cells": [
  {
   "cell_type": "code",
   "execution_count": 1,
   "metadata": {},
   "outputs": [],
   "source": [
    "def map_generator(map_file,size=10,s='b',e='t',b='p'):\n",
    "    with open(map_file) as f:\n",
    "        content = f.readlines()\n",
    "    mapText = []\n",
    "    for line in content:\n",
    "        line = line.replace(\" \",\"\")\n",
    "        line = line[:size+1]\n",
    "        print(line)\n",
    "        mapText.append(line)\n",
    "#     for line in range(len(content)):\n",
    "#         for char in range(len(line[:size+2])):\n",
    "#             if char== ' ':\n",
    "#                 continue\n",
    "            \n",
    "            "
   ]
  },
  {
   "cell_type": "code",
   "execution_count": null,
   "metadata": {},
   "outputs": [],
   "source": [
    "map_"
   ]
  }
 ],
 "metadata": {
  "kernelspec": {
   "display_name": "Python 3",
   "language": "python",
   "name": "python3"
  },
  "language_info": {
   "codemirror_mode": {
    "name": "ipython",
    "version": 3
   },
   "file_extension": ".py",
   "mimetype": "text/x-python",
   "name": "python",
   "nbconvert_exporter": "python",
   "pygments_lexer": "ipython3",
   "version": "3.8.5"
  }
 },
 "nbformat": 4,
 "nbformat_minor": 4
}
